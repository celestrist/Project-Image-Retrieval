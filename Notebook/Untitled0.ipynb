{
 "metadata": {
  "name": "Untitled0"
 },
 "nbformat": 3,
 "nbformat_minor": 0,
 "worksheets": [
  {
   "cells": [
    {
     "cell_type": "markdown",
     "metadata": {},
     "source": [
      "<img src='files/Fourier_Analysis_files/Histogram.png'/ border='1' height=300 width=400>"
     ]
    },
    {
     "cell_type": "markdown",
     "metadata": {},
     "source": [
      "$$\n",
      "Histogram =\n",
      " \\begin{pmatrix}\n",
      "  a_{1,1} & a_{1,2} & \\cdots & a_{1,n} \\\\\\\n",
      "  a_{2,1} & a_{2,2} & \\cdots & a_{2,n} \\\\\\\n",
      "  \\vdots  & \\vdots  & \\ddots & \\vdots  \\\\\\\n",
      "  a_{m,1} & a_{m,2} & \\cdots & a_{m,n}\n",
      " \\end{pmatrix}\n",
      "$$\n"
     ]
    },
    {
     "cell_type": "code",
     "collapsed": false,
     "input": [
      "from IPython.display import Latex, display "
     ],
     "language": "python",
     "metadata": {},
     "outputs": [],
     "prompt_number": 1
    },
    {
     "cell_type": "code",
     "collapsed": false,
     "input": [
      "display(Latex(r'$$M = \\bordermatrix{~ & x & y \\cr A & 1 & 0 \\cr B & 0 & 1 \\cr}$$'))\n"
     ],
     "language": "python",
     "metadata": {},
     "outputs": [
      {
       "latex": [
        "$$M = \\bordermatrix{~ & x & y \\cr A & 1 & 0 \\cr B & 0 & 1 \\cr}$$"
       ],
       "output_type": "display_data",
       "text": [
        "<IPython.core.display.Latex at 0x3e2e430>"
       ]
      }
     ],
     "prompt_number": 6
    },
    {
     "cell_type": "code",
     "collapsed": false,
     "input": [],
     "language": "python",
     "metadata": {},
     "outputs": []
    }
   ],
   "metadata": {}
  }
 ]
}