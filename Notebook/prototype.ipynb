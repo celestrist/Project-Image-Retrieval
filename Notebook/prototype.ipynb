{
 "metadata": {
  "name": "prototype"
 },
 "nbformat": 3,
 "nbformat_minor": 0,
 "worksheets": [
  {
   "cells": [
    {
     "cell_type": "markdown",
     "metadata": {},
     "source": [
      "Import Libraries\n",
      "----------------"
     ]
    },
    {
     "cell_type": "code",
     "collapsed": false,
     "input": [
      "import pandas as pd\n",
      "import cPickle\n",
      "from sklearn.ensemble import RandomForestClassifier, ExtraTreesClassifier\n",
      "from sklearn.svm import SVC\n",
      "from sklearn import cross_validation\n",
      "from sklearn.cluster import KMeans\n",
      "import operator"
     ],
     "language": "python",
     "metadata": {},
     "outputs": [],
     "prompt_number": 1
    },
    {
     "cell_type": "markdown",
     "metadata": {},
     "source": [
      "Data\n",
      "----"
     ]
    },
    {
     "cell_type": "code",
     "collapsed": false,
     "input": [
      "store = pd.HDFStore(\"../modules/data/imagelevel2.h5\",\"r\")\n",
      "df = store[\"level2\"]\n",
      "store.close()\n",
      "X = [list(x[1][0:-2]) for x in df.iterrows()]\n",
      "y_label = [x[1][\"label\"] for x in df.iterrows()]"
     ],
     "language": "python",
     "metadata": {},
     "outputs": [],
     "prompt_number": 3
    },
    {
     "cell_type": "markdown",
     "metadata": {},
     "source": [
      "Direct Applications\n",
      "--------------------"
     ]
    },
    {
     "cell_type": "code",
     "collapsed": false,
     "input": [
      "random_cls = RandomForestClassifier()\n",
      "extra_cls = ExtraTreesClassifier()\n",
      "lsvm_cls = SVC(kernel=\"linear\")\n",
      "print cross_validation.cross_val_score(random_cls,X,array(y_label))\n",
      "print cross_validation.cross_val_score(extra_cls,X,array(y_label))\n",
      "print cross_validation.cross_val_score(lsvm_cls,X,array(y_label))"
     ],
     "language": "python",
     "metadata": {},
     "outputs": [
      {
       "output_type": "stream",
       "stream": "stdout",
       "text": [
        "[ 0.37504321  0.37517289  0.3675657 ]\n",
        "[ 0.37193225  0.36791148  0.35892116]"
       ]
      },
      {
       "output_type": "stream",
       "stream": "stdout",
       "text": [
        "\n",
        "[ 0.52540615  0.52074689  0.51763485]"
       ]
      },
      {
       "output_type": "stream",
       "stream": "stdout",
       "text": [
        "\n"
       ]
      }
     ],
     "prompt_number": 5
    },
    {
     "cell_type": "markdown",
     "metadata": {},
     "source": [
      "Cluster & Classify\n",
      "------------------"
     ]
    },
    {
     "cell_type": "markdown",
     "metadata": {},
     "source": [
      "2 clusters"
     ]
    },
    {
     "cell_type": "code",
     "collapsed": false,
     "input": [
      "mean_clus = KMeans(n_clusters=2)\n",
      "mean_clus.fit(X)\n",
      "cluster_label = mean_clus.predict(X)\n",
      "df[\"first_cluster_label\"] = cluster_label\n",
      "label_first_cluster = {\n",
      "     x:df[df[\"label\"] == x][\"first_cluster_label\"].value_counts().idxmax() \n",
      "     for x in set(df[\"label\"])}\n",
      "df[\"first_cluster_label\"]=df[\"label\"].apply(lambda x: label_first_cluster[x])\n",
      "random_cls = RandomForestClassifier()\n",
      "extra_cls = ExtraTreesClassifier()\n",
      "lsvm_cls = SVC(kernel=\"linear\")\n",
      "print cross_validation.cross_val_score(random_cls,X,array(list(df[\"first_cluster_label\"])))\n",
      "print cross_validation.cross_val_score(extra_cls,X,array(list(df[\"first_cluster_label\"])))\n",
      "print cross_validation.cross_val_score(lsvm_cls,X,array(list(df[\"first_cluster_label\"])))"
     ],
     "language": "python",
     "metadata": {},
     "outputs": [
      {
       "output_type": "stream",
       "stream": "stdout",
       "text": [
        "[ 0.94711372  0.95159059  0.94605809]\n",
        "[ 0.95402696  0.94882434  0.95504841]"
       ]
      },
      {
       "output_type": "stream",
       "stream": "stdout",
       "text": [
        "\n",
        "[ 0.95852057  0.95816044  0.95988935]"
       ]
      },
      {
       "output_type": "stream",
       "stream": "stdout",
       "text": [
        "\n"
       ]
      }
     ],
     "prompt_number": 4
    },
    {
     "cell_type": "markdown",
     "metadata": {},
     "source": [
      "3 clusters"
     ]
    },
    {
     "cell_type": "code",
     "collapsed": false,
     "input": [
      "mean_clus = KMeans(n_clusters=3)\n",
      "mean_clus.fit(X)\n",
      "cluster_label = mean_clus.predict(X)\n",
      "df[\"first_cluster_label\"] = cluster_label\n",
      "label_first_cluster = {\n",
      "     x:df[df[\"label\"] == x][\"first_cluster_label\"].value_counts().idxmax() \n",
      "     for x in set(df[\"label\"])}\n",
      "df[\"first_cluster_label\"]=df[\"label\"].apply(lambda x: label_first_cluster[x])\n",
      "random_cls = RandomForestClassifier()\n",
      "extra_cls = ExtraTreesClassifier()\n",
      "lsvm_cls = SVC(kernel=\"linear\")\n",
      "print cross_validation.cross_val_score(random_cls,X,array(list(df[\"first_cluster_label\"])))\n",
      "print cross_validation.cross_val_score(extra_cls,X,array(list(df[\"first_cluster_label\"])))\n",
      "print cross_validation.cross_val_score(lsvm_cls,X,array(list(df[\"first_cluster_label\"])))"
     ],
     "language": "python",
     "metadata": {},
     "outputs": [
      {
       "output_type": "stream",
       "stream": "stdout",
       "text": [
        "[ 0.7003111   0.70781466  0.70746888]\n",
        "[ 0.70722433  0.69709544  0.69571231]"
       ]
      },
      {
       "output_type": "stream",
       "stream": "stdout",
       "text": [
        "\n",
        "[ 0.71655721  0.71542185  0.7219917 ]"
       ]
      },
      {
       "output_type": "stream",
       "stream": "stdout",
       "text": [
        "\n"
       ]
      }
     ],
     "prompt_number": 6
    },
    {
     "cell_type": "markdown",
     "metadata": {},
     "source": [
      "Features Selection Using Random Forest\n",
      "---------------------------------------"
     ]
    },
    {
     "cell_type": "code",
     "collapsed": false,
     "input": [
      "random_cls = RandomForestClassifier(compute_importances=True)\n",
      "random_cls.fit(X,array(y_label))"
     ],
     "language": "python",
     "metadata": {},
     "outputs": [
      {
       "output_type": "pyout",
       "prompt_number": 40,
       "text": [
        "RandomForestClassifier(bootstrap=True, compute_importances=True,\n",
        "            criterion='gini', max_depth=None, max_features='auto',\n",
        "            min_density=0.1, min_samples_leaf=1, min_samples_split=2,\n",
        "            n_estimators=10, n_jobs=1, oob_score=False, random_state=None,\n",
        "            verbose=0)"
       ]
      }
     ],
     "prompt_number": 40
    },
    {
     "cell_type": "code",
     "collapsed": false,
     "input": [
      "random_cls.feature_importances_"
     ],
     "language": "python",
     "metadata": {},
     "outputs": [
      {
       "output_type": "pyout",
       "prompt_number": 41,
       "text": [
        "array([ 0.00074562,  0.0005902 ,  0.00087868, ...,  0.00132974,\n",
        "        0.00066618,  0.00050161])"
       ]
      }
     ],
     "prompt_number": 41
    },
    {
     "cell_type": "markdown",
     "metadata": {},
     "source": [
      "importance > 0.001"
     ]
    },
    {
     "cell_type": "code",
     "collapsed": false,
     "input": [
      "selected_feature = [x[0] for x in enumerate(random_cls.feature_importances_) if x[1]>0.001]\n",
      "X_selected_feature = map(lambda x:operator.itemgetter(*selected_feature)(x),X)\n",
      "lsvm_cls = SVC(kernel=\"linear\")\n",
      "cross_validation.cross_val_score(lsvm_cls,X_selected_feature,array(y_label))"
     ],
     "language": "python",
     "metadata": {},
     "outputs": [
      {
       "output_type": "pyout",
       "prompt_number": 19,
       "text": [
        "array([ 0.34427929,  0.34716459,  0.34474412])"
       ]
      }
     ],
     "prompt_number": 19
    },
    {
     "cell_type": "markdown",
     "metadata": {},
     "source": [
      "importance > 0.0006"
     ]
    },
    {
     "cell_type": "code",
     "collapsed": false,
     "input": [
      "selected_feature = [x[0] for x in enumerate(random_cls.feature_importances_) if x[1]>0.0006]\n",
      "X_selected_feature = map(lambda x:operator.itemgetter(*selected_feature)(x),X)\n",
      "lsvm_cls = SVC(kernel=\"linear\")\n",
      "cross_validation.cross_val_score(lsvm_cls,X_selected_feature,array(y_label))"
     ],
     "language": "python",
     "metadata": {},
     "outputs": [
      {
       "output_type": "pyout",
       "prompt_number": 30,
       "text": [
        "array([ 0.48288973,  0.48478562,  0.48063624])"
       ]
      }
     ],
     "prompt_number": 30
    },
    {
     "cell_type": "code",
     "collapsed": false,
     "input": [
      "selected_feature = [x[0] for x in enumerate(random_cls.feature_importances_) if x[1]>0.002]\n",
      "X_selected_feature = map(lambda x:operator.itemgetter(*selected_feature)(x),X)\n",
      "lsvm_cls = SVC(kernel=\"linear\")\n",
      "cross_validation.cross_val_score(lsvm_cls,X_selected_feature,array(y_label))"
     ],
     "language": "python",
     "metadata": {},
     "outputs": [
      {
       "output_type": "pyout",
       "prompt_number": 31,
       "text": [
        "array([ 0.25025925,  0.24757953,  0.24273859])"
       ]
      }
     ],
     "prompt_number": 31
    },
    {
     "cell_type": "code",
     "collapsed": false,
     "input": [
      "selected_feature = [x[0] for x in enumerate(random_cls.feature_importances_) if x[1]>0.0005]\n",
      "X_selected_feature = map(lambda x:operator.itemgetter(*selected_feature)(x),X)\n",
      "lsvm_cls = SVC(kernel=\"linear\")\n",
      "cross_validation.cross_val_score(lsvm_cls,X_selected_feature,array(y_label))"
     ],
     "language": "python",
     "metadata": {},
     "outputs": [
      {
       "output_type": "pyout",
       "prompt_number": 36,
       "text": [
        "array([ 0.51192534,  0.51002766,  0.50691563])"
       ]
      }
     ],
     "prompt_number": 36
    },
    {
     "cell_type": "code",
     "collapsed": false,
     "input": [
      "random_cls = RandomForestClassifier()\n",
      "cross_validation.cross_val_score(random_cls,X_selected_feature,array(y_label))"
     ],
     "language": "python",
     "metadata": {},
     "outputs": [
      {
       "output_type": "pyout",
       "prompt_number": 38,
       "text": [
        "array([ 0.37435188,  0.38416321,  0.38035961])"
       ]
      }
     ],
     "prompt_number": 38
    },
    {
     "cell_type": "code",
     "collapsed": false,
     "input": [
      "selected_feature = [x[0] for x in enumerate(random_cls.feature_importances_) if x[1]>0.001]\n",
      "X_selected_feature = map(lambda x:operator.itemgetter(*selected_feature)(x),X)\n",
      "len(selected_feature)"
     ],
     "language": "python",
     "metadata": {},
     "outputs": [
      {
       "output_type": "pyout",
       "prompt_number": 48,
       "text": [
        "178"
       ]
      }
     ],
     "prompt_number": 48
    },
    {
     "cell_type": "code",
     "collapsed": false,
     "input": [
      "selected_feature = [x[0] for x in enumerate(random_cls.feature_importances_) if x[1]>0.0005]\n",
      "X_selected_feature = map(lambda x:operator.itemgetter(*selected_feature)(x),X)\n",
      "len(selected_feature)"
     ],
     "language": "python",
     "metadata": {},
     "outputs": [
      {
       "output_type": "pyout",
       "prompt_number": 49,
       "text": [
        "1084"
       ]
      }
     ],
     "prompt_number": 49
    },
    {
     "cell_type": "code",
     "collapsed": false,
     "input": [
      "selected_feature = [x[0] for x in enumerate(random_cls.feature_importances_) if x[1]>0.001]\n",
      "X_selected_feature = map(lambda x:operator.itemgetter(*selected_feature)(x),X)\n",
      "rrandom_cls = RandomForestClassifier()\n",
      "cross_validation.cross_val_score(rrandom_cls,X_selected_feature,array(y_label))"
     ],
     "language": "python",
     "metadata": {},
     "outputs": [
      {
       "output_type": "pyout",
       "prompt_number": 42,
       "text": [
        "array([ 0.38264777,  0.38035961,  0.38105118])"
       ]
      }
     ],
     "prompt_number": 42
    },
    {
     "cell_type": "code",
     "collapsed": false,
     "input": [
      "selected_feature = [x[0] for x in enumerate(random_cls.feature_importances_) if x[1]>0.002]\n",
      "X_selected_feature = map(lambda x:operator.itemgetter(*selected_feature)(x),X)\n",
      "rrandom_cls = RandomForestClassifier()\n",
      "cross_validation.cross_val_score(rrandom_cls,X_selected_feature,array(y_label))"
     ],
     "language": "python",
     "metadata": {},
     "outputs": [
      {
       "output_type": "pyout",
       "prompt_number": 43,
       "text": [
        "array([ 0.32077428,  0.31258645,  0.32192254])"
       ]
      }
     ],
     "prompt_number": 43
    },
    {
     "cell_type": "code",
     "collapsed": false,
     "input": [
      "selected_feature = [x[0] for x in enumerate(random_cls.feature_importances_) if x[1]>0.0009]\n",
      "X_selected_feature = map(lambda x:operator.itemgetter(*selected_feature)(x),X)\n",
      "rrandom_cls = RandomForestClassifier()\n",
      "cross_validation.cross_val_score(rrandom_cls,X_selected_feature,array(y_label))"
     ],
     "language": "python",
     "metadata": {},
     "outputs": [
      {
       "output_type": "pyout",
       "prompt_number": 44,
       "text": [
        "array([ 0.37815417,  0.37586445,  0.38554633])"
       ]
      }
     ],
     "prompt_number": 44
    },
    {
     "cell_type": "code",
     "collapsed": false,
     "input": [
      "selected_feature = [x[0] for x in enumerate(random_cls.feature_importances_) if x[1]>0.0005]\n",
      "X_selected_feature = map(lambda x:operator.itemgetter(*selected_feature)(x),X)\n",
      "rrandom_cls = RandomForestClassifier()\n",
      "cross_validation.cross_val_score(rrandom_cls,X_selected_feature,array(y_label))"
     ],
     "language": "python",
     "metadata": {},
     "outputs": [
      {
       "output_type": "pyout",
       "prompt_number": 46,
       "text": [
        "array([ 0.38230211,  0.38416321,  0.37828492])"
       ]
      }
     ],
     "prompt_number": 46
    },
    {
     "cell_type": "code",
     "collapsed": false,
     "input": [
      "cluster1 = df[df[\"first_cluster_label\"] == 0]\n",
      "cluster2 = df[df[\"first_cluster_label\"] == 1]\n",
      "X1 = [list(x[1][0:-3]) for x in cluster1.iterrows()]\n",
      "y1_label = [x[1][\"label\"] for x in cluster1.iterrows()]\n",
      "X2 = [list(x[1][0:-3]) for x in cluster2.iterrows()]\n",
      "y2_label = [x[1][\"label\"] for x in cluster2.iterrows()]"
     ],
     "language": "python",
     "metadata": {},
     "outputs": [],
     "prompt_number": 63
    },
    {
     "cell_type": "code",
     "collapsed": false,
     "input": [
      "df.columns"
     ],
     "language": "python",
     "metadata": {},
     "outputs": [
      {
       "output_type": "pyout",
       "prompt_number": 62,
       "text": [
        "Index([0, 1, 2, ..., category, label, first_cluster_label], dtype=object)"
       ]
      }
     ],
     "prompt_number": 62
    },
    {
     "cell_type": "markdown",
     "metadata": {},
     "source": [
      "Classify whithin clusters\n",
      "--------------------------"
     ]
    },
    {
     "cell_type": "code",
     "collapsed": false,
     "input": [
      "random_cls = RandomForestClassifier()\n",
      "extra_cls = ExtraTreesClassifier()\n",
      "lsvm_cls = SVC(kernel=\"linear\")\n",
      "print cross_validation.cross_val_score(random_cls,X1,array(y1_label))\n",
      "print cross_validation.cross_val_score(extra_cls,X1,array(y1_label))\n",
      "print cross_validation.cross_val_score(lsvm_cls,X1,array(y1_label))"
     ],
     "language": "python",
     "metadata": {},
     "outputs": [
      {
       "output_type": "stream",
       "stream": "stdout",
       "text": [
        "[ 0.87123288  0.88736264  0.86538462]\n",
        "[ 0.86849315  0.88186813  0.87912088]"
       ]
      },
      {
       "output_type": "stream",
       "stream": "stdout",
       "text": [
        "\n",
        "[ 0.88493151  0.90934066  0.87362637]"
       ]
      },
      {
       "output_type": "stream",
       "stream": "stdout",
       "text": [
        "\n"
       ]
      }
     ],
     "prompt_number": 64
    },
    {
     "cell_type": "code",
     "collapsed": false,
     "input": [
      "random_cls = RandomForestClassifier()\n",
      "extra_cls = ExtraTreesClassifier()\n",
      "lsvm_cls = SVC(kernel=\"linear\")\n",
      "print cross_validation.cross_val_score(random_cls,X2,array(y2_label))\n",
      "print cross_validation.cross_val_score(extra_cls,X2,array(y2_label))\n",
      "print cross_validation.cross_val_score(lsvm_cls,X2,array(y2_label))"
     ],
     "language": "python",
     "metadata": {},
     "outputs": [
      {
       "output_type": "stream",
       "stream": "stdout",
       "text": [
        "[ 0.33860759  0.34335443  0.32832278]\n",
        "[ 0.3255538   0.33742089  0.32911392]"
       ]
      },
      {
       "output_type": "stream",
       "stream": "stdout",
       "text": [
        "\n",
        "[ 0.49011076  0.4818038   0.47863924]"
       ]
      },
      {
       "output_type": "stream",
       "stream": "stdout",
       "text": [
        "\n"
       ]
      }
     ],
     "prompt_number": 65
    },
    {
     "cell_type": "code",
     "collapsed": false,
     "input": [],
     "language": "python",
     "metadata": {},
     "outputs": []
    }
   ],
   "metadata": {}
  }
 ]
}